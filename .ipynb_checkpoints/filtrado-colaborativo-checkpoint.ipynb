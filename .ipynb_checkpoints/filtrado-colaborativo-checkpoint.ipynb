{
 "cells": [
  {
   "cell_type": "markdown",
   "metadata": {},
   "source": [
    "# Prediccion Extrinsica"
   ]
  },
  {
   "cell_type": "code",
   "execution_count": 1,
   "metadata": {},
   "outputs": [],
   "source": [
    "import numpy as np"
   ]
  },
  {
   "cell_type": "markdown",
   "metadata": {},
   "source": [
    "## Dataset\n",
    "\n",
    "Usamos el siguiente dataset ejemplo para mostrar la viabilidad del algoritmo de filtrado colaborativo."
   ]
  },
  {
   "cell_type": "code",
   "execution_count": 9,
   "metadata": {},
   "outputs": [],
   "source": [
    "temas = 'NAFTA,Real Madrid,Olimpiadas,Comida Mexicana,Paises de europa,Intercambios,Arte Moderna,Cocina,Musica de los 70,Moda,Avalinguo'.split(',')\n",
    "\n",
    "csv = '''1,0,0,0,1,0,0,1,0,0,0\n",
    "1,1,0,1,1,0,1,0,0,1,0\n",
    "0,0,1,0,1,0,0,0,1,0,0\n",
    "1,0,1,0,0,1,0,0,1,0,0\n",
    "0,0,0,1,0,0,1,0,0,0,1\n",
    "0,1,0,0,1,0,0,1,0,1,0'''\n",
    "\n",
    "data = np.array([list(map(float, row.split(','))) for row in csv.split('\\n')], np.float64)"
   ]
  },
  {
   "cell_type": "markdown",
   "metadata": {},
   "source": [
    "## Correlacion\n",
    "\n",
    "Podemos asumir que si dos usuarios califican similarmente las mismas frases, sus calificaciones futuras igualmente seran similares.\n",
    "\n",
    "Dado esto podemos crear una matriz de correlacion comparando sus calificaciones con la siguiente funcion:"
   ]
  },
  {
   "cell_type": "code",
   "execution_count": 17,
   "metadata": {},
   "outputs": [
    {
     "name": "stdout",
     "output_type": "stream",
     "text": [
      "[1. 1. 1. 1. 1. 1.]\n",
      "[[1.         0.63245553 0.75       0.6681531  0.625      0.80178373]\n",
      " [0.63245553 1.         0.47434165 0.3380617  0.63245553 0.6761234 ]\n",
      " [0.75       0.47434165 1.         0.80178373 0.625      0.6681531 ]\n",
      " [0.6681531  0.3380617  0.80178373 1.         0.53452248 0.42857143]\n",
      " [0.625      0.63245553 0.625      0.53452248 1.         0.53452248]\n",
      " [0.80178373 0.6761234  0.6681531  0.42857143 0.53452248 1.        ]]\n"
     ]
    }
   ],
   "source": [
    "def correlation(scores):\n",
    "    n = len(scores)\n",
    "    avg = np.sum(scores,1) / np.count_nonzero(scores, 1)\n",
    "    cor = np.zeros((n,n))\n",
    "        \n",
    "    for x in range(0,n):\n",
    "        for y in range(0,n):\n",
    "            cor[x,y] = np.sum((scores[x] - avg[x]) * (scores[y] - avg[y]))\n",
    "            cor[x,y] = cor[x,y] / np.sqrt(np.sum((scores[x] - avg[x])**2) * np.sum((scores[y] - avg[y])**2))\n",
    "    \n",
    "    return cor"
   ]
  },
  {
   "cell_type": "code",
   "execution_count": 20,
   "metadata": {},
   "outputs": [
    {
     "name": "stdout",
     "output_type": "stream",
     "text": [
      "[1. 1. 1. 1. 1. 1.]\n",
      "[[-0.87218841  0.11951994  0.11817943  0.10478796 -0.86732336  0.11135885\n",
      "   0.10478796 -0.84985136  0.11817943  0.11951994  0.10416667]\n",
      " [-0.89052682 -0.86032305  0.06770028 -0.86396204 -0.88404498  0.05634362\n",
      "  -0.86396204  0.10904824  0.06770028 -0.86032305  0.10540926]\n",
      " [ 0.11256252  0.0952079  -0.84985136  0.0916118  -0.87947939  0.13363062\n",
      "   0.0916118   0.11817943 -0.84985136  0.0952079   0.10416667]\n",
      " [-0.88854362  0.06388609 -0.84985136  0.07271535  0.09319042 -0.83333333\n",
      "   0.07271535  0.09139371 -0.84985136  0.06388609  0.08908708]\n",
      " [ 0.09955433  0.09724817  0.09662687 -0.86396204  0.10070742  0.08908708\n",
      "  -0.86396204  0.09662687  0.09662687  0.09724817 -0.83333333]\n",
      " [ 0.10591548 -0.86032305  0.09139371  0.10088716 -0.86891416  0.07142857\n",
      "   0.10088716 -0.84985136  0.09139371 -0.86032305  0.08908708]]\n"
     ]
    }
   ],
   "source": [
    "cor = correlation(data)\n",
    "\n",
    "n = np.zeros(len(data[0]))\n",
    "\n",
    "p = np.zeros(np.shape(data))\n",
    "\n",
    "for i in range(0, len(data[0])):\n",
    "    for y in range(0, len(data)):\n",
    "        if data[y,i] != 0:\n",
    "            for x in range(0, len(data)):\n",
    "                p[x,i] += data[y,i] * cor[x,y]\n",
    "                n[i] += 1\n",
    "\n",
    "p /= n\n",
    "\n",
    "# Remover temas ya usados\n",
    "p -= np.abs(data)\n",
    "\n",
    "#print(np.sign(p))\n",
    "print(p)"
   ]
  },
  {
   "cell_type": "code",
   "execution_count": 21,
   "metadata": {},
   "outputs": [
    {
     "name": "stdout",
     "output_type": "stream",
     "text": [
      "0.10904824465137408 0.11817942539842174 0.09139371111270746\n",
      "Tema recomendado:  Cocina\n"
     ]
    }
   ],
   "source": [
    "# Participantes usuario 2, 3 y 4\n",
    "rec = np.argmax((p[1]+p[2]+p[3]) / 3)\n",
    "\n",
    "print(p[1,rec],p[2,rec],p[3,rec])\n",
    "\n",
    "print('Tema recomendado: ', temas[rec])"
   ]
  },
  {
   "cell_type": "code",
   "execution_count": null,
   "metadata": {},
   "outputs": [],
   "source": []
  }
 ],
 "metadata": {
  "kernelspec": {
   "display_name": "Python 3",
   "language": "python",
   "name": "python3"
  },
  "language_info": {
   "codemirror_mode": {
    "name": "ipython",
    "version": 3
   },
   "file_extension": ".py",
   "mimetype": "text/x-python",
   "name": "python",
   "nbconvert_exporter": "python",
   "pygments_lexer": "ipython3",
   "version": "3.5.3"
  }
 },
 "nbformat": 4,
 "nbformat_minor": 2
}
