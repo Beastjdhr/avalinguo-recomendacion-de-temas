{
 "cells": [
  {
   "cell_type": "markdown",
   "metadata": {},
   "source": [
    "# Prediccion Extrinsica"
   ]
  },
  {
   "cell_type": "code",
   "execution_count": 3,
   "metadata": {},
   "outputs": [],
   "source": [
    "import numpy as np"
   ]
  },
  {
   "cell_type": "markdown",
   "metadata": {},
   "source": [
    "## Dataset\n",
    "\n",
    "Usamos el siguiente dataset ejemplo para mostrar la viabilidad del algoritmo de filtrado colaborativo."
   ]
  },
  {
   "cell_type": "code",
   "execution_count": 4,
   "metadata": {},
   "outputs": [],
   "source": [
    "temas = 'NAFTA,Real Madrid,Olimpiadas,Comida Mexicana,Paises de europa,Intercambios,Arte Moderna,Cocina,Musica de los 70,Moda,Avalinguo'.split(',')\n",
    "\n",
    "csv = '''1,0,0,0,1,0,0,1,0,0,0\n",
    "1,1,0,1,1,0,1,0,0,1,0\n",
    "0,0,1,0,1,0,0,0,1,0,0\n",
    "1,0,1,0,0,1,0,0,1,0,0\n",
    "0,0,0,1,0,0,1,0,0,0,1\n",
    "0,1,0,0,1,0,0,1,0,1,0'''\n",
    "\n",
    "data = np.array([list(map(float, row.split(','))) for row in csv.split('\\n')], np.float64)"
   ]
  },
  {
   "cell_type": "markdown",
   "metadata": {},
   "source": [
    "## Correlacion\n",
    "\n",
    "Podemos asumir que si dos usuarios califican similarmente las mismas frases, sus calificaciones futuras igualmente seran similares.\n",
    "\n",
    "Dado esto podemos crear una matriz de correlacion comparando sus calificaciones con la siguiente funcion:"
   ]
  },
  {
   "cell_type": "code",
   "execution_count": 5,
   "metadata": {},
   "outputs": [],
   "source": [
    "def correlation(scores):\n",
    "    n = len(scores)\n",
    "    avg = np.sum(scores,1) / np.count_nonzero(scores, 1)\n",
    "    cor = np.zeros((n,n))\n",
    "        \n",
    "    for x in range(0,n):\n",
    "        for y in range(0,n):\n",
    "            cor[x,y] = np.sum((scores[x] - avg[x]) * (scores[y] - avg[y]))\n",
    "            cor[x,y] = cor[x,y] / np.sqrt(np.sum((scores[x] - avg[x])**2) * np.sum((scores[y] - avg[y])**2))\n",
    "    \n",
    "    return cor"
   ]
  },
  {
   "cell_type": "code",
   "execution_count": 6,
   "metadata": {},
   "outputs": [],
   "source": [
    "def predict(data):\n",
    "    cor = correlation(data)\n",
    "\n",
    "    n = np.zeros(np.shape(data)[1])\n",
    "\n",
    "    p = np.zeros(np.shape(data))\n",
    "\n",
    "    for i in range(0, len(data[0])):\n",
    "        for y in range(0, len(data)):\n",
    "            if data[y,i] != 0:\n",
    "                for x in range(0, len(data)):\n",
    "                    p[x,i] += data[y,i] * cor[x,y]\n",
    "                    n[i] += 1\n",
    "\n",
    "    return p / n"
   ]
  },
  {
   "cell_type": "code",
   "execution_count": 9,
   "metadata": {},
   "outputs": [],
   "source": [
    "def reccomend(data, users, remove_scored):\n",
    "    p = predict(data)\n",
    "    \n",
    "    r = np.zeros(np.shape(data)[1])\n",
    "    \n",
    "    # Remover temas ya usados\n",
    "    if remove_scored:\n",
    "        p -= np.abs(data)\n",
    "    \n",
    "    for i in users:\n",
    "        r += p[i]\n",
    "    \n",
    "    return np.argmax(r)"
   ]
  },
  {
   "cell_type": "code",
   "execution_count": 10,
   "metadata": {},
   "outputs": [
    {
     "name": "stdout",
     "output_type": "stream",
     "text": [
      "Tema recomendado: Cocina\n"
     ]
    }
   ],
   "source": [
    "print('Tema recomendado:', temas[reccomend(data, [1,2,3], True)])"
   ]
  },
  {
   "cell_type": "code",
   "execution_count": null,
   "metadata": {},
   "outputs": [],
   "source": []
  }
 ],
 "metadata": {
  "kernelspec": {
   "display_name": "Python 3",
   "language": "python",
   "name": "python3"
  },
  "language_info": {
   "codemirror_mode": {
    "name": "ipython",
    "version": 3
   },
   "file_extension": ".py",
   "mimetype": "text/x-python",
   "name": "python",
   "nbconvert_exporter": "python",
   "pygments_lexer": "ipython3",
   "version": "3.5.3"
  }
 },
 "nbformat": 4,
 "nbformat_minor": 2
}
