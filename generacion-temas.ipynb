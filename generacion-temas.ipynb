{
 "cells": [
  {
   "cell_type": "code",
   "execution_count": 6,
   "metadata": {},
   "outputs": [],
   "source": [
    "import requests\n",
    "import json\n",
    "import random\n",
    "import numpy as np\n",
    "\n",
    "from requests_oauthlib import OAuth1\n",
    "from io import StringIO\n",
    "from os import getenv\n",
    "from time import time\n",
    "from dotenv import load_dotenv"
   ]
  },
  {
   "cell_type": "code",
   "execution_count": 7,
   "metadata": {},
   "outputs": [
    {
     "name": "stdout",
     "output_type": "stream",
     "text": [
      "*Access tokens*\n",
      "API key: 0f7uX7eXU7Vo1SQmSn45ueotS\n",
      "API secret: XtSp9UEpETg93I8yRWme1UBzBxGh8QKOSxVdYgYnzWCegBuJEh\n",
      "Token: 215290930-MMI0TsfZ4CQ8Y2RT6hx737MshXBlEKhxOjd8y7fv\n",
      "Token secret: 125aR5ubKoVw0fUDFKQWSI6chx29as5sncHPFFaznc1pM\n"
     ]
    }
   ],
   "source": [
    "load_dotenv()\n",
    "\n",
    "twitter_api_key = getenv('TWITTER_API_KEY')\n",
    "twitter_api_secret = getenv('TWITTER_API_SECRET')\n",
    "twitter_access_token = getenv('TWITTER_ACCESS_TOKEN')\n",
    "twitter_access_secret = getenv('TWITTER_ACCESS_SECRET')\n",
    "\n",
    "print('*Access tokens*')\n",
    "print('API key:', twitter_api_key)\n",
    "print('API secret:', twitter_api_secret)\n",
    "print('Token:', twitter_access_token)\n",
    "print('Token secret:', twitter_access_secret)"
   ]
  },
  {
   "cell_type": "code",
   "execution_count": 8,
   "metadata": {},
   "outputs": [
    {
     "name": "stdout",
     "output_type": "stream",
     "text": [
      "*Status*\n",
      "Topics MX: 200\n",
      "Topics Global: 200\n",
      "Topics Twitter: 200\n",
      "Categories: 200\n"
     ]
    }
   ],
   "source": [
    "twitter_url='https://api.twitter.com/1.1/trends/place.json?id=1'\n",
    "\n",
    "twitter_auth = OAuth1(twitter_api_key, twitter_api_secret, twitter_access_token, twitter_access_secret)\n",
    "\n",
    "topics_mx_request = requests.get('https://trends.google.com/trends/api/topcharts?hl=en-US&tz=300&date=2017&geo=MX')\n",
    "topics_global_request = requests.get('https://trends.google.com/trends/api/topcharts?hl=en-US&tz=300&date=2017&geo=GLOBAL')\n",
    "cat_request = requests.get('https://gist.githubusercontent.com/Mackaber/545610649e6a32a5723af78d8069369b/raw/3a9889bf1336d9fd3e05882d7d028138e6586374/mexico_interest_dataset.json')\n",
    "trends_twitter_request = requests.get(twitter_url, auth=twitter_auth)\n",
    "\n",
    "print('*Status*')\n",
    "print('Topics MX:', topics_mx_request.status_code)\n",
    "print('Topics Global:', topics_global_request.status_code)\n",
    "print('Topics Twitter:', trends_twitter_request.status_code)\n",
    "print('Categories:', cat_request.status_code)"
   ]
  },
  {
   "cell_type": "code",
   "execution_count": 9,
   "metadata": {},
   "outputs": [
    {
     "data": {
      "text/plain": [
       "263"
      ]
     },
     "metadata": {},
     "output_type": "display_data"
    }
   ],
   "source": [
    "top_mx = json.load(StringIO(topics_mx_request.text[topics_mx_request.text.find('\\n')+1:]))\n",
    "top_global = json.load(StringIO(topics_global_request.text[topics_global_request.text.find('\\n')+1:]))\n",
    "topic_twitter = trends_twitter_request.json()\n",
    "\n",
    "categories = cat_request.json()\n",
    "topics = [item for sublist in top_mx['topCharts'] for item in sublist['listItems']]       \\\n",
    "         + [item for sublist in top_global['topCharts'] for item in sublist['listItems']] \\\n",
    "         + [t['name'] for t in topic_twitter[0]['trends']]\n",
    "\n",
    "unique_topics = set(topics)\n",
    "\n",
    "display(len(unique_topics))"
   ]
  },
  {
   "cell_type": "code",
   "execution_count": 10,
   "metadata": {},
   "outputs": [],
   "source": [
    "class Category:\n",
    "    def __init__(self, cat_id, name, parent=None):\n",
    "        self.weight = 1\n",
    "        self.name = name\n",
    "        self.parent = parent\n",
    "        self.children = []\n",
    "        self.cat_id = cat_id\n",
    "        \n",
    "        if parent is not None:\n",
    "            parent.add_child(self)\n",
    "        \n",
    "    def add_child(self, child):\n",
    "        self.children.append(child)\n",
    "        child.parent = self\n",
    "        \n",
    "        for c in children:\n",
    "            c.weight = 1 / len(children)\n",
    "            \n",
    "    def add_parent(self, parent):\n",
    "        parent.add_child(self)\n",
    "        \n",
    "    def is_descendant_of(self, cat):\n",
    "        if(self.parent is None):\n",
    "            return False\n",
    "        \n",
    "        if(self.parent is cat):\n",
    "            return True\n",
    "        \n",
    "        return self.parent.is_descendant_of(cat)\n",
    "        \n",
    "class Topic:\n",
    "    def __init__(self, name, categories=[]):\n",
    "        self.name = name\n",
    "        self.categories = categories[:]\n",
    "        \n",
    "        # Remover ascendencia de categorias (son redundantes)\n",
    "        # Complejidad: O(mn^2) donde m es la altura maxima del arbol de categorias.\n",
    "        # Quizas se pueda mejorar pero dudo que un tema tenga muchas categorias\n",
    "        for c1 in self.categories:\n",
    "            for c2 in self.categories:\n",
    "                if c1.is_descendant_of(c2):\n",
    "                    self.categories.remove(c1)\n",
    "    \n",
    "    \n",
    "    '''\n",
    "        Esta funcion retorna un vector con los pesos de categoria calculados de la\n",
    "        siguiunte forma:\n",
    "        \n",
    "        - Si la categoria fue asignada al tema, esta tiene un peso de 1\n",
    "        - Si la categoria es un hijo de una categoria asignada, se pondera\n",
    "          esta categoria proporcional a la cantidad de hermanos que tiene\n",
    "        - Si la categoria es padre de una categoria asignada, se pondera esta\n",
    "          categoria proporcional a la ponderacion del hijo \n",
    "    '''\n",
    "    def categorization_array(self, n_cat):\n",
    "        mat = np.zeros(n_cat)\n",
    "        \n",
    "        for cat in self.categories:\n",
    "            mat[cat.cat_id] = 1\n",
    "            \n",
    "            for ch in cat.children:\n",
    "                # Cada hijo tiene un peso equivalente a\n",
    "                # una fraccion del padre\n",
    "                mat[ch.cat_id] = ch.weight\n",
    "            \n",
    "            # Iterar por padres\n",
    "            par = cat.parent\n",
    "            w = cat.weight\n",
    "            while(par is not None):\n",
    "                # Cada padre tiene un peso equivalente\n",
    "                # a la fraccion del hijo\n",
    "                mat[par.cat_id] = w\n",
    "                w *= par.weight\n",
    "        \n",
    "        return mat\n",
    "                \n",
    "                "
   ]
  },
  {
   "cell_type": "code",
   "execution_count": null,
   "metadata": {},
   "outputs": [],
   "source": []
  },
  {
   "cell_type": "code",
   "execution_count": null,
   "metadata": {},
   "outputs": [],
   "source": []
  }
 ],
 "metadata": {
  "kernelspec": {
   "display_name": "Python 3",
   "language": "python",
   "name": "python3"
  },
  "language_info": {
   "codemirror_mode": {
    "name": "ipython",
    "version": 3
   },
   "file_extension": ".py",
   "mimetype": "text/x-python",
   "name": "python",
   "nbconvert_exporter": "python",
   "pygments_lexer": "ipython3",
   "version": "3.5.3"
  }
 },
 "nbformat": 4,
 "nbformat_minor": 2
}
